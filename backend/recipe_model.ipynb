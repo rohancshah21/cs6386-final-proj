{
 "cells": [
  {
   "cell_type": "code",
   "execution_count": null,
   "metadata": {},
   "outputs": [],
   "source": [
    "import pandas as pd\n",
    "import numpy as np\n"
   ]
  },
  {
   "cell_type": "code",
   "execution_count": 11,
   "metadata": {},
   "outputs": [
    {
     "data": {
      "text/plain": [
       "(32696, 50)"
      ]
     },
     "execution_count": 11,
     "metadata": {},
     "output_type": "execute_result"
    }
   ],
   "source": [
    "df = pd.read_csv(\"data/final_df.csv\")\n",
    "df.shape"
   ]
  },
  {
   "cell_type": "code",
   "execution_count": 12,
   "metadata": {},
   "outputs": [
    {
     "data": {
      "text/plain": [
       "0        Simple Macaroni and Cheese main-dish elbow all...\n",
       "1        Gourmet Mushroom Risotto main-dish chicken bro...\n",
       "2        Dessert Crepes breakfast-and-brunch all - purp...\n",
       "3        Pork Steaks meat-and-poultry soy sauce bunch g...\n",
       "4        Chicken Parmesan world-cuisine bread crumbs al...\n",
       "                               ...                        \n",
       "32691    Spicy Deviled Eggs appetizers-and-snacks Worce...\n",
       "32692    Nori Chips appetizers-and-snacks salt olive oi...\n",
       "32693    Deep Fried Jalapeno Slices appetizers-and-snac...\n",
       "32694    Jalapeno Hummus appetizers-and-snacks canned j...\n",
       "32695    Easy Baked Zucchini Chips appetizers-and-snack...\n",
       "Name: features, Length: 32696, dtype: object"
      ]
     },
     "execution_count": 12,
     "metadata": {},
     "output_type": "execute_result"
    }
   ],
   "source": [
    "df['high_level_ingredients_str'] = df['high_level_ingredients'].apply(lambda x: ' '.join(eval(x)) if isinstance(x, str) else ' '.join(x))\n",
    "df['features'] = df.apply(lambda row: f\"{row['name']} {row['category']} {row['high_level_ingredients_str']}\", axis=1)\n",
    "df['features']"
   ]
  },
  {
   "cell_type": "code",
   "execution_count": 14,
   "metadata": {},
   "outputs": [],
   "source": [
    "from sklearn.feature_extraction.text import TfidfVectorizer\n",
    "from sklearn.decomposition import PCA\n",
    "\n",
    "# vectorize features\n",
    "tfidf = TfidfVectorizer()\n",
    "features_tfidf = tfidf.fit_transform(df['features'])\n",
    "\n",
    "# reduce dimensionality using PCA\n",
    "pca = PCA(n_components=50)\n",
    "features_pca = pca.fit_transform(features_tfidf.toarray())"
   ]
  },
  {
   "cell_type": "code",
   "execution_count": null,
   "metadata": {},
   "outputs": [
    {
     "data": {
      "text/html": [
       "<div>\n",
       "<style scoped>\n",
       "    .dataframe tbody tr th:only-of-type {\n",
       "        vertical-align: middle;\n",
       "    }\n",
       "\n",
       "    .dataframe tbody tr th {\n",
       "        vertical-align: top;\n",
       "    }\n",
       "\n",
       "    .dataframe thead th {\n",
       "        text-align: right;\n",
       "    }\n",
       "</style>\n",
       "<table border=\"1\" class=\"dataframe\">\n",
       "  <thead>\n",
       "    <tr style=\"text-align: right;\">\n",
       "      <th></th>\n",
       "      <th>features</th>\n",
       "      <th>cluster</th>\n",
       "    </tr>\n",
       "  </thead>\n",
       "  <tbody>\n",
       "    <tr>\n",
       "      <th>0</th>\n",
       "      <td>Simple Macaroni and Cheese main-dish elbow all...</td>\n",
       "      <td>13</td>\n",
       "    </tr>\n",
       "    <tr>\n",
       "      <th>1</th>\n",
       "      <td>Gourmet Mushroom Risotto main-dish chicken bro...</td>\n",
       "      <td>4</td>\n",
       "    </tr>\n",
       "    <tr>\n",
       "      <th>2</th>\n",
       "      <td>Dessert Crepes breakfast-and-brunch all - purp...</td>\n",
       "      <td>3</td>\n",
       "    </tr>\n",
       "    <tr>\n",
       "      <th>3</th>\n",
       "      <td>Pork Steaks meat-and-poultry soy sauce bunch g...</td>\n",
       "      <td>6</td>\n",
       "    </tr>\n",
       "    <tr>\n",
       "      <th>4</th>\n",
       "      <td>Chicken Parmesan world-cuisine bread crumbs al...</td>\n",
       "      <td>19</td>\n",
       "    </tr>\n",
       "  </tbody>\n",
       "</table>\n",
       "</div>"
      ],
      "text/plain": [
       "                                            features  cluster\n",
       "0  Simple Macaroni and Cheese main-dish elbow all...       13\n",
       "1  Gourmet Mushroom Risotto main-dish chicken bro...        4\n",
       "2  Dessert Crepes breakfast-and-brunch all - purp...        3\n",
       "3  Pork Steaks meat-and-poultry soy sauce bunch g...        6\n",
       "4  Chicken Parmesan world-cuisine bread crumbs al...       19"
      ]
     },
     "execution_count": 15,
     "metadata": {},
     "output_type": "execute_result"
    }
   ],
   "source": [
    "# from sklearn.cluster import KMeans\n",
    "\n",
    "# kmeans = KMeans(n_clusters=20, random_state=100) \n",
    "# df['cluster'] = kmeans.fit_predict(features_pca)\n",
    "\n",
    "# df[['features', 'cluster']].head()"
   ]
  },
  {
   "cell_type": "code",
   "execution_count": 27,
   "metadata": {},
   "outputs": [
    {
     "name": "stdout",
     "output_type": "stream",
     "text": [
      "Query: chickpea stew without dairy\n",
      "Rank 1: Italian Chickpea Bread (Category: bread)\n",
      "Rank 2: Vegan Chickpea Curry without Coconut Milk (Category: world-cuisine)\n",
      "Rank 3: Dairy-Free Vanilla Frosting (Category: desserts)\n",
      "Rank 4: Roasted Garlic without Foil (Category: side-dish)\n",
      "Rank 5: Dairy-Free Scalloped Potatoes (Category: side-dish)\n",
      "                                            name       category  \\\n",
      "4430                      Italian Chickpea Bread          bread   \n",
      "6174   Vegan Chickpea Curry without Coconut Milk  world-cuisine   \n",
      "4744                 Dairy-Free Vanilla Frosting       desserts   \n",
      "21540                Roasted Garlic without Foil      side-dish   \n",
      "21769              Dairy-Free Scalloped Potatoes      side-dish   \n",
      "\n",
      "                                                                                                                                           high_level_ingredients  \n",
      "4430                                                           ['water', 'chickpea flour', 'p salt', 'cooking spray', 'Italian seasoning', 'black pepper', 'oil']  \n",
      "6174   ['packages', 'soda', 'cans chickpeas', 'garam masala', 'onion', 'ginger - garlic paste', 'salt', 'turmeric', 'vegetable oil', 'cayenne pepper', 'spinach']  \n",
      "4744                                                                                      ['confectioners', 'water', 'vanilla extract', 'dairy - free margarine']  \n",
      "21540                                                                                                                                ['head garlic', 'olive oil']  \n",
      "21769                             ['non - dairy butter', 'onions', 'all - purpose flour', 'cooking spray', 'black pepper', 'salt', 'potatoes', 'vegetable broth']  \n"
     ]
    }
   ],
   "source": [
    "from sklearn.metrics.pairwise import cosine_similarity\n",
    "\n",
    "# Ensure columns do not get cut off when printing\n",
    "pd.set_option('display.max_colwidth', None)\n",
    "\n",
    "def find_top_k_similar_recipes(query, k=5):\n",
    "    query_tfidf = tfidf.transform([query])\n",
    "\n",
    "    similarities = cosine_similarity(query_tfidf, features_tfidf).flatten()\n",
    "\n",
    "    top_k_indices = similarities.argsort()[-k:][::-1]\n",
    "\n",
    "    return df.iloc[top_k_indices][['name', 'category', 'high_level_ingredients']], similarities[top_k_indices]\n",
    "\n",
    "query = \"chickpea stew without dairy\"\n",
    "top_k_recipes, scores = find_top_k_similar_recipes(query, k=5)\n",
    "\n",
    "print(f\"Query: {query}\")\n",
    "for i, (recipe, score) in enumerate(zip(top_k_recipes.iterrows(), scores)):\n",
    "    index, row = recipe\n",
    "    print(f\"Rank {i+1}: {row['name']} (Category: {row['category']})\")\n",
    "    \n",
    "print(top_k_recipes)"
   ]
  },
  {
   "cell_type": "code",
   "execution_count": null,
   "metadata": {},
   "outputs": [],
   "source": []
  }
 ],
 "metadata": {
  "kernelspec": {
   "display_name": "base",
   "language": "python",
   "name": "python3"
  },
  "language_info": {
   "codemirror_mode": {
    "name": "ipython",
    "version": 3
   },
   "file_extension": ".py",
   "mimetype": "text/x-python",
   "name": "python",
   "nbconvert_exporter": "python",
   "pygments_lexer": "ipython3",
   "version": "3.10.13"
  }
 },
 "nbformat": 4,
 "nbformat_minor": 2
}
