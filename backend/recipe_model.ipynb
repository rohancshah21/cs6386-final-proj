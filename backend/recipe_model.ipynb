{
 "cells": [
  {
   "cell_type": "code",
   "execution_count": 2,
   "metadata": {},
   "outputs": [],
   "source": [
    "import pandas as pd\n",
    "import numpy as np\n"
   ]
  },
  {
   "cell_type": "code",
   "execution_count": 3,
   "metadata": {},
   "outputs": [
    {
     "data": {
      "text/plain": [
       "(32696, 50)"
      ]
     },
     "execution_count": 3,
     "metadata": {},
     "output_type": "execute_result"
    }
   ],
   "source": [
    "df = pd.read_csv(\"data/final_df.csv\")\n",
    "df.shape"
   ]
  },
  {
   "cell_type": "code",
   "execution_count": 4,
   "metadata": {},
   "outputs": [
    {
     "data": {
      "text/plain": [
       "0        Simple Macaroni and Cheese main-dish elbow all...\n",
       "1        Gourmet Mushroom Risotto main-dish chicken bro...\n",
       "2        Dessert Crepes breakfast-and-brunch all - purp...\n",
       "3        Pork Steaks meat-and-poultry soy sauce bunch g...\n",
       "4        Chicken Parmesan world-cuisine bread crumbs al...\n",
       "                               ...                        \n",
       "32691    Spicy Deviled Eggs appetizers-and-snacks Worce...\n",
       "32692    Nori Chips appetizers-and-snacks salt olive oi...\n",
       "32693    Deep Fried Jalapeno Slices appetizers-and-snac...\n",
       "32694    Jalapeno Hummus appetizers-and-snacks canned j...\n",
       "32695    Easy Baked Zucchini Chips appetizers-and-snack...\n",
       "Name: features, Length: 32696, dtype: object"
      ]
     },
     "execution_count": 4,
     "metadata": {},
     "output_type": "execute_result"
    }
   ],
   "source": [
    "df['high_level_ingredients_str'] = df['high_level_ingredients'].apply(lambda x: ' '.join(eval(x)) if isinstance(x, str) else ' '.join(x))\n",
    "df['features'] = df.apply(lambda row: f\"{row['name']} {row['category']} {row['high_level_ingredients_str']}\", axis=1)\n",
    "df['features']"
   ]
  },
  {
   "cell_type": "code",
   "execution_count": 5,
   "metadata": {},
   "outputs": [],
   "source": [
    "from sklearn.feature_extraction.text import TfidfVectorizer\n",
    "from sklearn.decomposition import PCA\n",
    "\n",
    "# vectorize features\n",
    "tfidf = TfidfVectorizer()\n",
    "features_tfidf = tfidf.fit_transform(df['features'])\n",
    "\n",
    "# reduce dimensionality using PCA\n",
    "pca = PCA(n_components=50)\n",
    "features_pca = pca.fit_transform(features_tfidf.toarray())"
   ]
  },
  {
   "cell_type": "code",
   "execution_count": 6,
   "metadata": {},
   "outputs": [],
   "source": [
    "# from sklearn.cluster import KMeans\n",
    "\n",
    "# kmeans = KMeans(n_clusters=20, random_state=100) \n",
    "# df['cluster'] = kmeans.fit_predict(features_pca)\n",
    "\n",
    "# df[['features', 'cluster']].head()"
   ]
  },
  {
   "cell_type": "code",
   "execution_count": 7,
   "metadata": {},
   "outputs": [
    {
     "name": "stdout",
     "output_type": "stream",
     "text": [
      "Query: chickpea stew without dairy\n",
      "Rank 1: Italian Chickpea Bread (Category: bread)\n",
      "Rank 2: Vegan Chickpea Curry without Coconut Milk (Category: world-cuisine)\n",
      "Rank 3: Dairy-Free Vanilla Frosting (Category: desserts)\n",
      "Rank 4: Roasted Garlic without Foil (Category: side-dish)\n",
      "Rank 5: Dairy-Free Scalloped Potatoes (Category: side-dish)\n",
      "                                            name       category  \\\n",
      "4430                      Italian Chickpea Bread          bread   \n",
      "6174   Vegan Chickpea Curry without Coconut Milk  world-cuisine   \n",
      "4744                 Dairy-Free Vanilla Frosting       desserts   \n",
      "21540                Roasted Garlic without Foil      side-dish   \n",
      "21769              Dairy-Free Scalloped Potatoes      side-dish   \n",
      "\n",
      "                                                                                                                                           high_level_ingredients  \n",
      "4430                                                           ['water', 'chickpea flour', 'p salt', 'cooking spray', 'Italian seasoning', 'black pepper', 'oil']  \n",
      "6174   ['packages', 'soda', 'cans chickpeas', 'garam masala', 'onion', 'ginger - garlic paste', 'salt', 'turmeric', 'vegetable oil', 'cayenne pepper', 'spinach']  \n",
      "4744                                                                                      ['confectioners', 'water', 'vanilla extract', 'dairy - free margarine']  \n",
      "21540                                                                                                                                ['head garlic', 'olive oil']  \n",
      "21769                             ['non - dairy butter', 'onions', 'all - purpose flour', 'cooking spray', 'black pepper', 'salt', 'potatoes', 'vegetable broth']  \n"
     ]
    }
   ],
   "source": [
    "from sklearn.metrics.pairwise import cosine_similarity\n",
    "\n",
    "# Ensure columns do not get cut off when printing\n",
    "pd.set_option('display.max_colwidth', None)\n",
    "\n",
    "def find_top_k_similar_recipes(query, k=5):\n",
    "    query_tfidf = tfidf.transform([query])\n",
    "\n",
    "    similarities = cosine_similarity(query_tfidf, features_tfidf).flatten()\n",
    "\n",
    "    top_k_indices = similarities.argsort()[-k:][::-1]\n",
    "\n",
    "    return df.iloc[top_k_indices][['name', 'category', 'high_level_ingredients']], similarities[top_k_indices]\n",
    "\n",
    "query = \"chickpea stew without dairy\"\n",
    "top_k_recipes, scores = find_top_k_similar_recipes(query, k=5)\n",
    "\n",
    "print(f\"Query: {query}\")\n",
    "for i, (recipe, score) in enumerate(zip(top_k_recipes.iterrows(), scores)):\n",
    "    index, row = recipe\n",
    "    print(f\"Rank {i+1}: {row['name']} (Category: {row['category']})\")\n",
    "    \n",
    "print(top_k_recipes)"
   ]
  },
  {
   "cell_type": "code",
   "execution_count": 8,
   "metadata": {},
   "outputs": [],
   "source": [
    "def check_dietary_restrictions(ingredients, restrictions):\n",
    "    # Common non-vegan ingredients\n",
    "    non_vegan = ['milk', 'cheese', 'cream', 'butter', 'egg', 'honey', 'meat', 'chicken', 'beef', 'pork', 'fish']\n",
    "    # Common non-vegetarian ingredients\n",
    "    non_vegetarian = ['meat', 'chicken', 'beef', 'pork', 'fish']\n",
    "    # Common gluten ingredients\n",
    "    gluten = ['flour', 'bread', 'pasta', 'wheat', 'barley', 'rye']\n",
    "    # Common dairy ingredients\n",
    "    dairy = ['milk', 'cheese', 'cream', 'butter', 'yogurt']\n",
    "    # Peanut ingredients\n",
    "    peanut = ['peanut', 'peanut butter']\n",
    "    \n",
    "    ingredients_lower = [ing.lower() for ing in ingredients]\n",
    "    \n",
    "    for restriction in restrictions:\n",
    "        if restriction.lower() == 'vegan':\n",
    "            if any(ing in ingredients_lower for ing in non_vegan):\n",
    "                return False\n",
    "        elif restriction.lower() == 'vegetarian':\n",
    "            if any(ing in ingredients_lower for ing in non_vegetarian):\n",
    "                return False\n",
    "        elif restriction.lower() == 'gluten free':\n",
    "            if any(ing in ingredients_lower for ing in gluten):\n",
    "                return False\n",
    "        elif restriction.lower() == 'lactose-free':\n",
    "            if any(ing in ingredients_lower for ing in dairy):\n",
    "                return False\n",
    "        elif restriction.lower() == 'peanut free':\n",
    "            if any(ing in ingredients_lower for ing in peanut):\n",
    "                return False\n",
    "    return True"
   ]
  },
  {
   "cell_type": "code",
   "execution_count": 12,
   "metadata": {},
   "outputs": [],
   "source": [
    "def check_ingredients_match(recipe_ingredients, have_ingredients, avoid_ingredients):\n",
    "    recipe_ingredients_lower = [ing.lower() for ing in recipe_ingredients]\n",
    "    have_ingredients_lower = [ing.lower() for ing in have_ingredients]\n",
    "    avoid_ingredients_lower = [ing.lower() for ing in avoid_ingredients]\n",
    "    \n",
    "    # Check if recipe contains any ingredients to avoid\n",
    "    if any(ing in recipe_ingredients_lower for ing in avoid_ingredients_lower):\n",
    "        return False, 0\n",
    "    \n",
    "    # empty recipe ingredients case\n",
    "    if len(recipe_ingredients) == 0:\n",
    "        return True, 0\n",
    "    \n",
    "    # Calculate match score based on available ingredients\n",
    "    matching_ingredients = sum(1 for ing in have_ingredients_lower if any(ing in recipe_ing for recipe_ing in recipe_ingredients_lower))\n",
    "    match_score = matching_ingredients / len(recipe_ingredients)\n",
    "    \n",
    "    return True, match_score"
   ]
  },
  {
   "cell_type": "code",
   "execution_count": null,
   "metadata": {},
   "outputs": [],
   "source": [
    "def find_recipes_with_preferences(query, have_ingredients=[], avoid_ingredients=[], dietary_restrictions=[], k=5):\n",
    "    query_tfidf = tfidf.transform([query])\n",
    "    similarities = cosine_similarity(query_tfidf, features_tfidf).flatten()\n",
    "    \n",
    "    recipe_scores = []\n",
    "    \n",
    "    for idx, sim_score in enumerate(similarities):\n",
    "        recipe_ingredients = eval(df.iloc[idx]['high_level_ingredients'])\n",
    "        \n",
    "        # check diet restrictions\n",
    "        if dietary_restrictions and not check_dietary_restrictions(recipe_ingredients, dietary_restrictions):\n",
    "            continue\n",
    "        \n",
    "        # check ingredients match\n",
    "        valid_ingredients, ing_match_score = check_ingredients_match(recipe_ingredients, have_ingredients, avoid_ingredients)\n",
    "        if not valid_ingredients:\n",
    "            continue\n",
    "        \n",
    "        #combined score\n",
    "        combined_score = 0.7 * sim_score + 0.3 * ing_match_score\n",
    "        recipe_scores.append((idx, combined_score))\n",
    "    \n",
    "    recipe_scores.sort(key=lambda x: x[1], reverse=True)\n",
    "    top_k_indices = [idx for idx, score in recipe_scores[:k]]\n",
    "    top_k_scores = [score for idx, score in recipe_scores[:k]]\n",
    "    \n",
    "    return df.iloc[top_k_indices][['name', 'category', 'high_level_ingredients']], top_k_scores"
   ]
  },
  {
   "cell_type": "code",
   "execution_count": null,
   "metadata": {},
   "outputs": [
    {
     "name": "stdout",
     "output_type": "stream",
     "text": [
      "Query: chickpea stew\n",
      "Available ingredients: ['chickpea', 'onion', 'garlic', 'tomato']\n",
      "Avoiding ingredients: ['mushroom', 'bell pepper']\n",
      "Dietary restrictions: ['vegetarian', 'lactose-free']\n",
      "\n",
      "Top Recommendations:\n",
      "\n",
      "Rank 1: Italian Chickpea Bread (Score: 0.44)\n",
      "Category: bread\n",
      "Ingredients: ['water', 'chickpea flour', 'p salt', 'cooking spray', 'Italian seasoning', 'black pepper', 'oil']\n",
      "\n",
      "Rank 2: Elsy's Chickpea Burger (Score: 0.35)\n",
      "Category: main-dish\n",
      "Ingredients: ['roughly   cilantro leaves', 'eggs', 'chickpea flour', 'chili powder', 'garlic', 'vegetable oil', 'dried chickpeas garbanzo beans', 'salt', 'cumin', 'water   cover']\n",
      "\n",
      "Rank 3: Chickpea Salad (Score: 0.33)\n",
      "Category: salad\n",
      "Ingredients: ['red wine vinegar', 'garbanzo beans', 'onion', 'tomato', 'balsamic vinegar', 'cucumber']\n",
      "\n",
      "Rank 4: Red Cabbage and Chickpea Salad (Score: 0.32)\n",
      "Category: salad\n",
      "Ingredients: ['onion', 'tomato', 'pepper', 'tahini salad', 'red cabbage', 'salt', 'chickpeas']\n",
      "\n",
      "Rank 5: Mediterranean Chickpea Salad II (Score: 0.31)\n",
      "Category: salad\n",
      "Ingredients: ['fresh parsley', 'clove garlic', 'onion', 'roma', 'garbanzo', 'green bell pepper', 'plum tomato', 'olive oil', 'lemon', 'chickpeas']\n"
     ]
    }
   ],
   "source": [
    "query = \"chickpea stew\"\n",
    "have_ingredients = ['chickpea', 'onion', 'garlic', 'tomato']\n",
    "avoid_ingredients = ['mushroom', 'bell pepper']\n",
    "dietary_restrictions = ['vegetarian', 'lactose-free']\n",
    "\n",
    "top_recipes, scores = find_recipes_with_preferences(\n",
    "    query,\n",
    "    have_ingredients=have_ingredients,\n",
    "    avoid_ingredients=avoid_ingredients,\n",
    "    dietary_restrictions=dietary_restrictions,\n",
    "    k=5\n",
    ")\n",
    "\n",
    "print(\"Query:\", query)\n",
    "print(\"Available ingredients:\", have_ingredients)\n",
    "print(\"Avoiding ingredients:\", avoid_ingredients)\n",
    "print(\"Dietary restrictions:\", dietary_restrictions)\n",
    "print(\"\\nTop Recommendations:\")\n",
    "for i, (recipe, score) in enumerate(zip(top_recipes.iterrows(), scores)):\n",
    "    index, row = recipe\n",
    "    print(f\"\\nRank {i+1}: {row['name']} (Score: {score:.2f})\")\n",
    "    print(f\"Category: {row['category']}\")\n",
    "    print(f\"Ingredients: {row['high_level_ingredients']}\")"
   ]
  },
  {
   "cell_type": "code",
   "execution_count": null,
   "metadata": {},
   "outputs": [],
   "source": []
  }
 ],
 "metadata": {
  "kernelspec": {
   "display_name": "base",
   "language": "python",
   "name": "python3"
  },
  "language_info": {
   "codemirror_mode": {
    "name": "ipython",
    "version": 3
   },
   "file_extension": ".py",
   "mimetype": "text/x-python",
   "name": "python",
   "nbconvert_exporter": "python",
   "pygments_lexer": "ipython3",
   "version": "3.10.13"
  }
 },
 "nbformat": 4,
 "nbformat_minor": 2
}
